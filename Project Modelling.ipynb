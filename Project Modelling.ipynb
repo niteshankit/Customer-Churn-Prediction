{
 "cells": [
  {
   "cell_type": "code",
   "execution_count": 1,
   "metadata": {},
   "outputs": [],
   "source": [
    "import pandas as pd \n",
    "import seaborn as sns\n",
    "import matplotlib.pyplot as plt\n",
    "%matplotlib inline\n",
    "import numpy as np"
   ]
  },
  {
   "cell_type": "code",
   "execution_count": 12,
   "metadata": {},
   "outputs": [
    {
     "data": {
      "text/html": [
       "<div>\n",
       "<style scoped>\n",
       "    .dataframe tbody tr th:only-of-type {\n",
       "        vertical-align: middle;\n",
       "    }\n",
       "\n",
       "    .dataframe tbody tr th {\n",
       "        vertical-align: top;\n",
       "    }\n",
       "\n",
       "    .dataframe thead th {\n",
       "        text-align: right;\n",
       "    }\n",
       "</style>\n",
       "<table border=\"1\" class=\"dataframe\">\n",
       "  <thead>\n",
       "    <tr style=\"text-align: right;\">\n",
       "      <th></th>\n",
       "      <th>AccountNumber</th>\n",
       "      <th>AccountName</th>\n",
       "      <th>CompleteCustomerChurn</th>\n",
       "      <th>CustomerAgeCategoryIndicator</th>\n",
       "      <th>AcctPaymentStatusIndicator</th>\n",
       "      <th>RepChangesinLast002Months_SUM</th>\n",
       "      <th>NumberOfProductionInstances_SUM</th>\n",
       "      <th>OptyWonLast12Months_Percent_SUM</th>\n",
       "      <th>OverallEngagementSatisfactionIndicator_SUM</th>\n",
       "      <th>FulfillerPriceCategoryIndicator</th>\n",
       "      <th>KnowledgeEventAttendeeCount</th>\n",
       "      <th>TotalAdoptionPercent</th>\n",
       "      <th>LicensedAdoptionPercent</th>\n",
       "      <th>AdoptionCategoryIndicator</th>\n",
       "      <th>LicensingCategoryIndicator</th>\n",
       "      <th>ResponseRatePercent</th>\n",
       "      <th>NPSSatisfactionIndicator_SUM</th>\n",
       "      <th>OverallSupportSurveySatisfactionIndicator_SUM</th>\n",
       "      <th>UsageRiskIndicator_SUM</th>\n",
       "      <th>TotalActivityCount_SUM</th>\n",
       "    </tr>\n",
       "  </thead>\n",
       "  <tbody>\n",
       "    <tr>\n",
       "      <td>0</td>\n",
       "      <td>ACCT0000005</td>\n",
       "      <td>WagerWorks, Inc.</td>\n",
       "      <td>1</td>\n",
       "      <td>1.000000</td>\n",
       "      <td>1</td>\n",
       "      <td>0.2</td>\n",
       "      <td>0.0000</td>\n",
       "      <td>0.0000</td>\n",
       "      <td>0.5</td>\n",
       "      <td>0.5</td>\n",
       "      <td>0.04</td>\n",
       "      <td>0.359997</td>\n",
       "      <td>0.093836</td>\n",
       "      <td>0.75</td>\n",
       "      <td>0.333333</td>\n",
       "      <td>0.272750</td>\n",
       "      <td>0.176471</td>\n",
       "      <td>0.294118</td>\n",
       "      <td>0.000000</td>\n",
       "      <td>0.144578</td>\n",
       "    </tr>\n",
       "    <tr>\n",
       "      <td>1</td>\n",
       "      <td>ACCT0000006</td>\n",
       "      <td>OUHSC IT</td>\n",
       "      <td>0</td>\n",
       "      <td>1.000000</td>\n",
       "      <td>1</td>\n",
       "      <td>0.4</td>\n",
       "      <td>0.2857</td>\n",
       "      <td>0.5000</td>\n",
       "      <td>0.0</td>\n",
       "      <td>0.0</td>\n",
       "      <td>0.20</td>\n",
       "      <td>0.481480</td>\n",
       "      <td>0.092100</td>\n",
       "      <td>1.00</td>\n",
       "      <td>0.333333</td>\n",
       "      <td>0.272750</td>\n",
       "      <td>0.176471</td>\n",
       "      <td>0.294118</td>\n",
       "      <td>0.083333</td>\n",
       "      <td>0.851406</td>\n",
       "    </tr>\n",
       "    <tr>\n",
       "      <td>2</td>\n",
       "      <td>ACCT0000011</td>\n",
       "      <td>Allstate Corporation</td>\n",
       "      <td>0</td>\n",
       "      <td>0.666667</td>\n",
       "      <td>1</td>\n",
       "      <td>0.0</td>\n",
       "      <td>0.0000</td>\n",
       "      <td>0.2222</td>\n",
       "      <td>0.0</td>\n",
       "      <td>0.0</td>\n",
       "      <td>0.24</td>\n",
       "      <td>0.518510</td>\n",
       "      <td>0.099185</td>\n",
       "      <td>1.00</td>\n",
       "      <td>0.333333</td>\n",
       "      <td>0.345478</td>\n",
       "      <td>0.176471</td>\n",
       "      <td>0.294118</td>\n",
       "      <td>0.000000</td>\n",
       "      <td>0.242972</td>\n",
       "    </tr>\n",
       "    <tr>\n",
       "      <td>3</td>\n",
       "      <td>ACCT0000026</td>\n",
       "      <td>Clark County Nevada</td>\n",
       "      <td>0</td>\n",
       "      <td>1.000000</td>\n",
       "      <td>1</td>\n",
       "      <td>0.2</td>\n",
       "      <td>0.0000</td>\n",
       "      <td>0.6666</td>\n",
       "      <td>0.0</td>\n",
       "      <td>0.5</td>\n",
       "      <td>0.24</td>\n",
       "      <td>0.444440</td>\n",
       "      <td>0.085016</td>\n",
       "      <td>0.75</td>\n",
       "      <td>0.333333</td>\n",
       "      <td>0.272750</td>\n",
       "      <td>0.176471</td>\n",
       "      <td>0.411765</td>\n",
       "      <td>0.000000</td>\n",
       "      <td>0.549197</td>\n",
       "    </tr>\n",
       "    <tr>\n",
       "      <td>4</td>\n",
       "      <td>ACCT0000029</td>\n",
       "      <td>AAA Northern California, Nevada &amp; Utah Insuran...</td>\n",
       "      <td>0</td>\n",
       "      <td>0.666667</td>\n",
       "      <td>1</td>\n",
       "      <td>0.2</td>\n",
       "      <td>0.0000</td>\n",
       "      <td>1.0000</td>\n",
       "      <td>0.0</td>\n",
       "      <td>0.0</td>\n",
       "      <td>0.20</td>\n",
       "      <td>0.555550</td>\n",
       "      <td>0.099628</td>\n",
       "      <td>1.00</td>\n",
       "      <td>0.666667</td>\n",
       "      <td>0.272750</td>\n",
       "      <td>0.176471</td>\n",
       "      <td>0.529412</td>\n",
       "      <td>0.000000</td>\n",
       "      <td>0.491968</td>\n",
       "    </tr>\n",
       "  </tbody>\n",
       "</table>\n",
       "</div>"
      ],
      "text/plain": [
       "  AccountNumber                                        AccountName  \\\n",
       "0   ACCT0000005                                   WagerWorks, Inc.   \n",
       "1   ACCT0000006                                           OUHSC IT   \n",
       "2   ACCT0000011                               Allstate Corporation   \n",
       "3   ACCT0000026                                Clark County Nevada   \n",
       "4   ACCT0000029  AAA Northern California, Nevada & Utah Insuran...   \n",
       "\n",
       "   CompleteCustomerChurn  CustomerAgeCategoryIndicator  \\\n",
       "0                      1                      1.000000   \n",
       "1                      0                      1.000000   \n",
       "2                      0                      0.666667   \n",
       "3                      0                      1.000000   \n",
       "4                      0                      0.666667   \n",
       "\n",
       "   AcctPaymentStatusIndicator  RepChangesinLast002Months_SUM  \\\n",
       "0                           1                            0.2   \n",
       "1                           1                            0.4   \n",
       "2                           1                            0.0   \n",
       "3                           1                            0.2   \n",
       "4                           1                            0.2   \n",
       "\n",
       "   NumberOfProductionInstances_SUM  OptyWonLast12Months_Percent_SUM  \\\n",
       "0                           0.0000                           0.0000   \n",
       "1                           0.2857                           0.5000   \n",
       "2                           0.0000                           0.2222   \n",
       "3                           0.0000                           0.6666   \n",
       "4                           0.0000                           1.0000   \n",
       "\n",
       "   OverallEngagementSatisfactionIndicator_SUM  \\\n",
       "0                                         0.5   \n",
       "1                                         0.0   \n",
       "2                                         0.0   \n",
       "3                                         0.0   \n",
       "4                                         0.0   \n",
       "\n",
       "   FulfillerPriceCategoryIndicator  KnowledgeEventAttendeeCount  \\\n",
       "0                              0.5                         0.04   \n",
       "1                              0.0                         0.20   \n",
       "2                              0.0                         0.24   \n",
       "3                              0.5                         0.24   \n",
       "4                              0.0                         0.20   \n",
       "\n",
       "   TotalAdoptionPercent  LicensedAdoptionPercent  AdoptionCategoryIndicator  \\\n",
       "0              0.359997                 0.093836                       0.75   \n",
       "1              0.481480                 0.092100                       1.00   \n",
       "2              0.518510                 0.099185                       1.00   \n",
       "3              0.444440                 0.085016                       0.75   \n",
       "4              0.555550                 0.099628                       1.00   \n",
       "\n",
       "   LicensingCategoryIndicator  ResponseRatePercent  \\\n",
       "0                    0.333333             0.272750   \n",
       "1                    0.333333             0.272750   \n",
       "2                    0.333333             0.345478   \n",
       "3                    0.333333             0.272750   \n",
       "4                    0.666667             0.272750   \n",
       "\n",
       "   NPSSatisfactionIndicator_SUM  \\\n",
       "0                      0.176471   \n",
       "1                      0.176471   \n",
       "2                      0.176471   \n",
       "3                      0.176471   \n",
       "4                      0.176471   \n",
       "\n",
       "   OverallSupportSurveySatisfactionIndicator_SUM  UsageRiskIndicator_SUM  \\\n",
       "0                                       0.294118                0.000000   \n",
       "1                                       0.294118                0.083333   \n",
       "2                                       0.294118                0.000000   \n",
       "3                                       0.411765                0.000000   \n",
       "4                                       0.529412                0.000000   \n",
       "\n",
       "   TotalActivityCount_SUM  \n",
       "0                0.144578  \n",
       "1                0.851406  \n",
       "2                0.242972  \n",
       "3                0.549197  \n",
       "4                0.491968  "
      ]
     },
     "execution_count": 12,
     "metadata": {},
     "output_type": "execute_result"
    }
   ],
   "source": [
    "project = pd.read_csv(\"C:/Users/Dell/Desktop/Dataset for Modelling.csv\",sep=\",\")\n",
    "project.head()"
   ]
  },
  {
   "cell_type": "code",
   "execution_count": 13,
   "metadata": {},
   "outputs": [],
   "source": [
    "x = project.drop([\"CompleteCustomerChurn\",\"AccountName\",\"AccountNumber\"],axis=1)\n",
    "y = project[\"CompleteCustomerChurn\"]"
   ]
  },
  {
   "cell_type": "code",
   "execution_count": 14,
   "metadata": {},
   "outputs": [
    {
     "name": "stderr",
     "output_type": "stream",
     "text": [
      "c:\\users\\dell\\appdata\\local\\programs\\python\\python37-32\\lib\\site-packages\\sklearn\\linear_model\\logistic.py:432: FutureWarning: Default solver will be changed to 'lbfgs' in 0.22. Specify a solver to silence this warning.\n",
      "  FutureWarning)\n"
     ]
    },
    {
     "data": {
      "text/plain": [
       "LogisticRegression(C=1.0, class_weight=None, dual=False, fit_intercept=True,\n",
       "                   intercept_scaling=1, l1_ratio=None, max_iter=100,\n",
       "                   multi_class='warn', n_jobs=None, penalty='l2',\n",
       "                   random_state=None, solver='warn', tol=0.0001, verbose=0,\n",
       "                   warm_start=False)"
      ]
     },
     "execution_count": 14,
     "metadata": {},
     "output_type": "execute_result"
    }
   ],
   "source": [
    "from sklearn.model_selection import train_test_split\n",
    "x_train,x_test,y_train,y_test = train_test_split(x,y,test_size=.3,random_state=1)\n",
    "from sklearn.linear_model import LogisticRegression\n",
    "logmodel = LogisticRegression()\n",
    "logmodel.fit(x_train,y_train)"
   ]
  },
  {
   "cell_type": "code",
   "execution_count": 15,
   "metadata": {},
   "outputs": [
    {
     "data": {
      "text/plain": [
       "0.9550561797752809"
      ]
     },
     "execution_count": 15,
     "metadata": {},
     "output_type": "execute_result"
    }
   ],
   "source": [
    "predictions = logmodel.predict(x_test)\n",
    "predictions\n",
    "\n",
    "from sklearn.metrics import classification_report\n",
    "classification_report(y_test,predictions)\n",
    "from sklearn.metrics import accuracy_score\n",
    "accuracy_score(y_test,predictions)"
   ]
  },
  {
   "cell_type": "code",
   "execution_count": null,
   "metadata": {},
   "outputs": [],
   "source": [
    "\n",
    "\n",
    "\n",
    "\n"
   ]
  },
  {
   "cell_type": "markdown",
   "metadata": {},
   "source": [
    "# Without split"
   ]
  },
  {
   "cell_type": "code",
   "execution_count": 24,
   "metadata": {},
   "outputs": [],
   "source": [
    "# preparing model considering all the variables \n",
    "# for regression model\n",
    "\n",
    "import numpy as np\n",
    "import statsmodels.formula.api as sm"
   ]
  },
  {
   "cell_type": "code",
   "execution_count": 30,
   "metadata": {},
   "outputs": [
    {
     "name": "stdout",
     "output_type": "stream",
     "text": [
      "Warning: Maximum number of iterations has been exceeded.\n",
      "         Current function value: 0.089883\n",
      "         Iterations: 35\n"
     ]
    },
    {
     "name": "stderr",
     "output_type": "stream",
     "text": [
      "c:\\users\\dell\\appdata\\local\\programs\\python\\python37-32\\lib\\site-packages\\statsmodels\\base\\model.py:512: ConvergenceWarning: Maximum Likelihood optimization failed to converge. Check mle_retvals\n",
      "  \"Check mle_retvals\", ConvergenceWarning)\n"
     ]
    }
   ],
   "source": [
    "# Preparing model                  \n",
    "ml = sm.logit('CompleteCustomerChurn~CustomerAgeCategoryIndicator+AcctPaymentStatusIndicator+RepChangesinLast002Months_SUM+NumberOfProductionInstances_SUM+OptyWonLast12Months_Percent_SUM+OverallEngagementSatisfactionIndicator_SUM+FulfillerPriceCategoryIndicator+KnowledgeEventAttendeeCount+TotalAdoptionPercent+LicensedAdoptionPercent+AdoptionCategoryIndicator+LicensingCategoryIndicator+ResponseRatePercent+NPSSatisfactionIndicator_SUM+OverallSupportSurveySatisfactionIndicator_SUM+UsageRiskIndicator_SUM+TotalActivityCount_SUM',data=project).fit() # regression model"
   ]
  },
  {
   "cell_type": "code",
   "execution_count": 31,
   "metadata": {},
   "outputs": [
    {
     "data": {
      "text/plain": [
       "Intercept                                          9.868390\n",
       "CustomerAgeCategoryIndicator                       2.925707\n",
       "AcctPaymentStatusIndicator                        -2.552053\n",
       "RepChangesinLast002Months_SUM                      0.935433\n",
       "NumberOfProductionInstances_SUM                 -114.974240\n",
       "OptyWonLast12Months_Percent_SUM                   -2.611308\n",
       "OverallEngagementSatisfactionIndicator_SUM        -2.255083\n",
       "FulfillerPriceCategoryIndicator                   -0.340964\n",
       "KnowledgeEventAttendeeCount                      -11.169429\n",
       "TotalAdoptionPercent                             -71.345168\n",
       "LicensedAdoptionPercent                            1.241915\n",
       "AdoptionCategoryIndicator                         29.464902\n",
       "LicensingCategoryIndicator                         0.604822\n",
       "ResponseRatePercent                               -1.489224\n",
       "NPSSatisfactionIndicator_SUM                     -10.955355\n",
       "OverallSupportSurveySatisfactionIndicator_SUM     -6.893228\n",
       "UsageRiskIndicator_SUM                            -0.999951\n",
       "TotalActivityCount_SUM                            -0.398352\n",
       "dtype: float64"
      ]
     },
     "execution_count": 31,
     "metadata": {},
     "output_type": "execute_result"
    }
   ],
   "source": [
    "ml.params"
   ]
  },
  {
   "cell_type": "code",
   "execution_count": 28,
   "metadata": {},
   "outputs": [
    {
     "data": {
      "text/html": [
       "<table class=\"simpletable\">\n",
       "<caption>OLS Regression Results</caption>\n",
       "<tr>\n",
       "  <th>Dep. Variable:</th>    <td>CompleteCustomerChurn</td> <th>  R-squared:         </th> <td>   0.188</td> \n",
       "</tr>\n",
       "<tr>\n",
       "  <th>Model:</th>                     <td>OLS</td>          <th>  Adj. R-squared:    </th> <td>   0.184</td> \n",
       "</tr>\n",
       "<tr>\n",
       "  <th>Method:</th>               <td>Least Squares</td>     <th>  F-statistic:       </th> <td>   48.21</td> \n",
       "</tr>\n",
       "<tr>\n",
       "  <th>Date:</th>               <td>Wed, 04 Dec 2019</td>    <th>  Prob (F-statistic):</th> <td>4.93e-146</td>\n",
       "</tr>\n",
       "<tr>\n",
       "  <th>Time:</th>                   <td>13:26:58</td>        <th>  Log-Likelihood:    </th> <td>  658.62</td> \n",
       "</tr>\n",
       "<tr>\n",
       "  <th>No. Observations:</th>        <td>  3558</td>         <th>  AIC:               </th> <td>  -1281.</td> \n",
       "</tr>\n",
       "<tr>\n",
       "  <th>Df Residuals:</th>            <td>  3540</td>         <th>  BIC:               </th> <td>  -1170.</td> \n",
       "</tr>\n",
       "<tr>\n",
       "  <th>Df Model:</th>                <td>    17</td>         <th>                     </th>     <td> </td>    \n",
       "</tr>\n",
       "<tr>\n",
       "  <th>Covariance Type:</th>        <td>nonrobust</td>       <th>                     </th>     <td> </td>    \n",
       "</tr>\n",
       "</table>\n",
       "<table class=\"simpletable\">\n",
       "<tr>\n",
       "                        <td></td>                           <th>coef</th>     <th>std err</th>      <th>t</th>      <th>P>|t|</th>  <th>[0.025</th>    <th>0.975]</th>  \n",
       "</tr>\n",
       "<tr>\n",
       "  <th>Intercept</th>                                     <td>    0.4968</td> <td>    0.048</td> <td>   10.267</td> <td> 0.000</td> <td>    0.402</td> <td>    0.592</td>\n",
       "</tr>\n",
       "<tr>\n",
       "  <th>CustomerAgeCategoryIndicator</th>                  <td>    0.1295</td> <td>    0.011</td> <td>   11.513</td> <td> 0.000</td> <td>    0.107</td> <td>    0.152</td>\n",
       "</tr>\n",
       "<tr>\n",
       "  <th>AcctPaymentStatusIndicator</th>                    <td>   -0.1551</td> <td>    0.046</td> <td>   -3.399</td> <td> 0.001</td> <td>   -0.245</td> <td>   -0.066</td>\n",
       "</tr>\n",
       "<tr>\n",
       "  <th>RepChangesinLast002Months_SUM</th>                 <td>    0.0439</td> <td>    0.021</td> <td>    2.046</td> <td> 0.041</td> <td>    0.002</td> <td>    0.086</td>\n",
       "</tr>\n",
       "<tr>\n",
       "  <th>NumberOfProductionInstances_SUM</th>               <td>   -0.1802</td> <td>    0.089</td> <td>   -2.035</td> <td> 0.042</td> <td>   -0.354</td> <td>   -0.007</td>\n",
       "</tr>\n",
       "<tr>\n",
       "  <th>OptyWonLast12Months_Percent_SUM</th>               <td>   -0.1820</td> <td>    0.011</td> <td>  -15.915</td> <td> 0.000</td> <td>   -0.204</td> <td>   -0.160</td>\n",
       "</tr>\n",
       "<tr>\n",
       "  <th>OverallEngagementSatisfactionIndicator_SUM</th>    <td>   -0.0338</td> <td>    0.019</td> <td>   -1.743</td> <td> 0.081</td> <td>   -0.072</td> <td>    0.004</td>\n",
       "</tr>\n",
       "<tr>\n",
       "  <th>FulfillerPriceCategoryIndicator</th>               <td>   -0.0100</td> <td>    0.010</td> <td>   -1.041</td> <td> 0.298</td> <td>   -0.029</td> <td>    0.009</td>\n",
       "</tr>\n",
       "<tr>\n",
       "  <th>KnowledgeEventAttendeeCount</th>                   <td>   -0.1104</td> <td>    0.054</td> <td>   -2.061</td> <td> 0.039</td> <td>   -0.215</td> <td>   -0.005</td>\n",
       "</tr>\n",
       "<tr>\n",
       "  <th>TotalAdoptionPercent</th>                          <td>   -0.6300</td> <td>    0.049</td> <td>  -12.959</td> <td> 0.000</td> <td>   -0.725</td> <td>   -0.535</td>\n",
       "</tr>\n",
       "<tr>\n",
       "  <th>LicensedAdoptionPercent</th>                       <td>    0.0599</td> <td>    0.037</td> <td>    1.627</td> <td> 0.104</td> <td>   -0.012</td> <td>    0.132</td>\n",
       "</tr>\n",
       "<tr>\n",
       "  <th>AdoptionCategoryIndicator</th>                     <td>    0.2409</td> <td>    0.018</td> <td>   13.655</td> <td> 0.000</td> <td>    0.206</td> <td>    0.275</td>\n",
       "</tr>\n",
       "<tr>\n",
       "  <th>LicensingCategoryIndicator</th>                    <td>    0.0166</td> <td>    0.006</td> <td>    2.880</td> <td> 0.004</td> <td>    0.005</td> <td>    0.028</td>\n",
       "</tr>\n",
       "<tr>\n",
       "  <th>ResponseRatePercent</th>                           <td>   -0.0623</td> <td>    0.020</td> <td>   -3.117</td> <td> 0.002</td> <td>   -0.101</td> <td>   -0.023</td>\n",
       "</tr>\n",
       "<tr>\n",
       "  <th>NPSSatisfactionIndicator_SUM</th>                  <td>   -0.2563</td> <td>    0.047</td> <td>   -5.477</td> <td> 0.000</td> <td>   -0.348</td> <td>   -0.165</td>\n",
       "</tr>\n",
       "<tr>\n",
       "  <th>OverallSupportSurveySatisfactionIndicator_SUM</th> <td>   -0.1181</td> <td>    0.026</td> <td>   -4.500</td> <td> 0.000</td> <td>   -0.170</td> <td>   -0.067</td>\n",
       "</tr>\n",
       "<tr>\n",
       "  <th>UsageRiskIndicator_SUM</th>                        <td>   -0.1091</td> <td>    0.021</td> <td>   -5.111</td> <td> 0.000</td> <td>   -0.151</td> <td>   -0.067</td>\n",
       "</tr>\n",
       "<tr>\n",
       "  <th>TotalActivityCount_SUM</th>                        <td>   -0.0002</td> <td>    0.019</td> <td>   -0.013</td> <td> 0.989</td> <td>   -0.037</td> <td>    0.036</td>\n",
       "</tr>\n",
       "</table>\n",
       "<table class=\"simpletable\">\n",
       "<tr>\n",
       "  <th>Omnibus:</th>       <td>2180.698</td> <th>  Durbin-Watson:     </th> <td>   2.016</td> \n",
       "</tr>\n",
       "<tr>\n",
       "  <th>Prob(Omnibus):</th>  <td> 0.000</td>  <th>  Jarque-Bera (JB):  </th> <td>18028.644</td>\n",
       "</tr>\n",
       "<tr>\n",
       "  <th>Skew:</th>           <td> 2.926</td>  <th>  Prob(JB):          </th> <td>    0.00</td> \n",
       "</tr>\n",
       "<tr>\n",
       "  <th>Kurtosis:</th>       <td>12.347</td>  <th>  Cond. No.          </th> <td>    52.0</td> \n",
       "</tr>\n",
       "</table><br/><br/>Warnings:<br/>[1] Standard Errors assume that the covariance matrix of the errors is correctly specified."
      ],
      "text/plain": [
       "<class 'statsmodels.iolib.summary.Summary'>\n",
       "\"\"\"\n",
       "                              OLS Regression Results                             \n",
       "=================================================================================\n",
       "Dep. Variable:     CompleteCustomerChurn   R-squared:                       0.188\n",
       "Model:                               OLS   Adj. R-squared:                  0.184\n",
       "Method:                    Least Squares   F-statistic:                     48.21\n",
       "Date:                   Wed, 04 Dec 2019   Prob (F-statistic):          4.93e-146\n",
       "Time:                           13:26:58   Log-Likelihood:                 658.62\n",
       "No. Observations:                   3558   AIC:                            -1281.\n",
       "Df Residuals:                       3540   BIC:                            -1170.\n",
       "Df Model:                             17                                         \n",
       "Covariance Type:               nonrobust                                         \n",
       "=================================================================================================================\n",
       "                                                    coef    std err          t      P>|t|      [0.025      0.975]\n",
       "-----------------------------------------------------------------------------------------------------------------\n",
       "Intercept                                         0.4968      0.048     10.267      0.000       0.402       0.592\n",
       "CustomerAgeCategoryIndicator                      0.1295      0.011     11.513      0.000       0.107       0.152\n",
       "AcctPaymentStatusIndicator                       -0.1551      0.046     -3.399      0.001      -0.245      -0.066\n",
       "RepChangesinLast002Months_SUM                     0.0439      0.021      2.046      0.041       0.002       0.086\n",
       "NumberOfProductionInstances_SUM                  -0.1802      0.089     -2.035      0.042      -0.354      -0.007\n",
       "OptyWonLast12Months_Percent_SUM                  -0.1820      0.011    -15.915      0.000      -0.204      -0.160\n",
       "OverallEngagementSatisfactionIndicator_SUM       -0.0338      0.019     -1.743      0.081      -0.072       0.004\n",
       "FulfillerPriceCategoryIndicator                  -0.0100      0.010     -1.041      0.298      -0.029       0.009\n",
       "KnowledgeEventAttendeeCount                      -0.1104      0.054     -2.061      0.039      -0.215      -0.005\n",
       "TotalAdoptionPercent                             -0.6300      0.049    -12.959      0.000      -0.725      -0.535\n",
       "LicensedAdoptionPercent                           0.0599      0.037      1.627      0.104      -0.012       0.132\n",
       "AdoptionCategoryIndicator                         0.2409      0.018     13.655      0.000       0.206       0.275\n",
       "LicensingCategoryIndicator                        0.0166      0.006      2.880      0.004       0.005       0.028\n",
       "ResponseRatePercent                              -0.0623      0.020     -3.117      0.002      -0.101      -0.023\n",
       "NPSSatisfactionIndicator_SUM                     -0.2563      0.047     -5.477      0.000      -0.348      -0.165\n",
       "OverallSupportSurveySatisfactionIndicator_SUM    -0.1181      0.026     -4.500      0.000      -0.170      -0.067\n",
       "UsageRiskIndicator_SUM                           -0.1091      0.021     -5.111      0.000      -0.151      -0.067\n",
       "TotalActivityCount_SUM                           -0.0002      0.019     -0.013      0.989      -0.037       0.036\n",
       "==============================================================================\n",
       "Omnibus:                     2180.698   Durbin-Watson:                   2.016\n",
       "Prob(Omnibus):                  0.000   Jarque-Bera (JB):            18028.644\n",
       "Skew:                           2.926   Prob(JB):                         0.00\n",
       "Kurtosis:                      12.347   Cond. No.                         52.0\n",
       "==============================================================================\n",
       "\n",
       "Warnings:\n",
       "[1] Standard Errors assume that the covariance matrix of the errors is correctly specified.\n",
       "\"\"\""
      ]
     },
     "execution_count": 28,
     "metadata": {},
     "output_type": "execute_result"
    }
   ],
   "source": [
    "ml.summary()"
   ]
  },
  {
   "cell_type": "code",
   "execution_count": 32,
   "metadata": {},
   "outputs": [
    {
     "data": {
      "text/plain": [
       "array([[3341.,   30.],\n",
       "       [  86.,  101.]])"
      ]
     },
     "execution_count": 32,
     "metadata": {},
     "output_type": "execute_result"
    }
   ],
   "source": [
    "ml.pred_table()"
   ]
  },
  {
   "cell_type": "code",
   "execution_count": 33,
   "metadata": {},
   "outputs": [
    {
     "data": {
      "text/plain": [
       "0.9673974142776841"
      ]
     },
     "execution_count": 33,
     "metadata": {},
     "output_type": "execute_result"
    }
   ],
   "source": [
    "accuracy1 = (3341+101)/(3341+30+86+101)\n",
    "accuracy1"
   ]
  },
  {
   "cell_type": "code",
   "execution_count": null,
   "metadata": {},
   "outputs": [],
   "source": []
  },
  {
   "cell_type": "code",
   "execution_count": null,
   "metadata": {},
   "outputs": [],
   "source": []
  },
  {
   "cell_type": "code",
   "execution_count": null,
   "metadata": {},
   "outputs": [],
   "source": []
  },
  {
   "cell_type": "markdown",
   "metadata": {},
   "source": [
    "### Removing parameters having greater P value"
   ]
  },
  {
   "cell_type": "markdown",
   "metadata": {},
   "source": [
    "#### Removing fuller price category indicator"
   ]
  },
  {
   "cell_type": "code",
   "execution_count": 35,
   "metadata": {},
   "outputs": [
    {
     "name": "stdout",
     "output_type": "stream",
     "text": [
      "Warning: Maximum number of iterations has been exceeded.\n",
      "         Current function value: 0.090039\n",
      "         Iterations: 35\n"
     ]
    },
    {
     "name": "stderr",
     "output_type": "stream",
     "text": [
      "c:\\users\\dell\\appdata\\local\\programs\\python\\python37-32\\lib\\site-packages\\statsmodels\\base\\model.py:512: ConvergenceWarning: Maximum Likelihood optimization failed to converge. Check mle_retvals\n",
      "  \"Check mle_retvals\", ConvergenceWarning)\n"
     ]
    }
   ],
   "source": [
    "ml2= sm.logit('CompleteCustomerChurn~CustomerAgeCategoryIndicator+AcctPaymentStatusIndicator+RepChangesinLast002Months_SUM+NumberOfProductionInstances_SUM+OptyWonLast12Months_Percent_SUM+OverallEngagementSatisfactionIndicator_SUM+KnowledgeEventAttendeeCount+TotalAdoptionPercent+LicensedAdoptionPercent+AdoptionCategoryIndicator+LicensingCategoryIndicator+ResponseRatePercent+NPSSatisfactionIndicator_SUM+OverallSupportSurveySatisfactionIndicator_SUM+UsageRiskIndicator_SUM+TotalActivityCount_SUM',data=project).fit() "
   ]
  },
  {
   "cell_type": "code",
   "execution_count": 36,
   "metadata": {},
   "outputs": [
    {
     "data": {
      "text/plain": [
       "Intercept                                          9.689506\n",
       "CustomerAgeCategoryIndicator                       2.916544\n",
       "AcctPaymentStatusIndicator                        -2.565342\n",
       "RepChangesinLast002Months_SUM                      0.921251\n",
       "NumberOfProductionInstances_SUM                 -116.822891\n",
       "OptyWonLast12Months_Percent_SUM                   -2.610947\n",
       "OverallEngagementSatisfactionIndicator_SUM        -2.210966\n",
       "KnowledgeEventAttendeeCount                      -11.069897\n",
       "TotalAdoptionPercent                             -71.694860\n",
       "LicensedAdoptionPercent                            1.189140\n",
       "AdoptionCategoryIndicator                         29.613968\n",
       "LicensingCategoryIndicator                         0.605393\n",
       "ResponseRatePercent                               -1.545960\n",
       "NPSSatisfactionIndicator_SUM                     -10.924498\n",
       "OverallSupportSurveySatisfactionIndicator_SUM     -6.721465\n",
       "UsageRiskIndicator_SUM                            -1.012020\n",
       "TotalActivityCount_SUM                            -0.381203\n",
       "dtype: float64"
      ]
     },
     "execution_count": 36,
     "metadata": {},
     "output_type": "execute_result"
    }
   ],
   "source": [
    "ml2.params"
   ]
  },
  {
   "cell_type": "code",
   "execution_count": 37,
   "metadata": {},
   "outputs": [
    {
     "data": {
      "text/html": [
       "<table class=\"simpletable\">\n",
       "<caption>Logit Regression Results</caption>\n",
       "<tr>\n",
       "  <th>Dep. Variable:</th>   <td>CompleteCustomerChurn</td> <th>  No. Observations:  </th>   <td>  3558</td>  \n",
       "</tr>\n",
       "<tr>\n",
       "  <th>Model:</th>                   <td>Logit</td>         <th>  Df Residuals:      </th>   <td>  3541</td>  \n",
       "</tr>\n",
       "<tr>\n",
       "  <th>Method:</th>                   <td>MLE</td>          <th>  Df Model:          </th>   <td>    16</td>  \n",
       "</tr>\n",
       "<tr>\n",
       "  <th>Date:</th>              <td>Wed, 04 Dec 2019</td>    <th>  Pseudo R-squ.:     </th>   <td>0.5629</td>  \n",
       "</tr>\n",
       "<tr>\n",
       "  <th>Time:</th>                  <td>13:33:11</td>        <th>  Log-Likelihood:    </th>  <td> -320.36</td> \n",
       "</tr>\n",
       "<tr>\n",
       "  <th>converged:</th>               <td>False</td>         <th>  LL-Null:           </th>  <td> -732.87</td> \n",
       "</tr>\n",
       "<tr>\n",
       "  <th>Covariance Type:</th>       <td>nonrobust</td>       <th>  LLR p-value:       </th> <td>2.898e-165</td>\n",
       "</tr>\n",
       "</table>\n",
       "<table class=\"simpletable\">\n",
       "<tr>\n",
       "                        <td></td>                           <th>coef</th>     <th>std err</th>      <th>z</th>      <th>P>|z|</th>  <th>[0.025</th>    <th>0.975]</th>  \n",
       "</tr>\n",
       "<tr>\n",
       "  <th>Intercept</th>                                     <td>    9.6895</td> <td>    1.428</td> <td>    6.786</td> <td> 0.000</td> <td>    6.891</td> <td>   12.488</td>\n",
       "</tr>\n",
       "<tr>\n",
       "  <th>CustomerAgeCategoryIndicator</th>                  <td>    2.9165</td> <td>    0.319</td> <td>    9.155</td> <td> 0.000</td> <td>    2.292</td> <td>    3.541</td>\n",
       "</tr>\n",
       "<tr>\n",
       "  <th>AcctPaymentStatusIndicator</th>                    <td>   -2.5653</td> <td>    0.989</td> <td>   -2.595</td> <td> 0.009</td> <td>   -4.503</td> <td>   -0.627</td>\n",
       "</tr>\n",
       "<tr>\n",
       "  <th>RepChangesinLast002Months_SUM</th>                 <td>    0.9213</td> <td>    0.621</td> <td>    1.484</td> <td> 0.138</td> <td>   -0.296</td> <td>    2.138</td>\n",
       "</tr>\n",
       "<tr>\n",
       "  <th>NumberOfProductionInstances_SUM</th>               <td> -116.8229</td> <td> 1.72e+04</td> <td>   -0.007</td> <td> 0.995</td> <td>-3.38e+04</td> <td> 3.35e+04</td>\n",
       "</tr>\n",
       "<tr>\n",
       "  <th>OptyWonLast12Months_Percent_SUM</th>               <td>   -2.6109</td> <td>    0.289</td> <td>   -9.049</td> <td> 0.000</td> <td>   -3.176</td> <td>   -2.045</td>\n",
       "</tr>\n",
       "<tr>\n",
       "  <th>OverallEngagementSatisfactionIndicator_SUM</th>    <td>   -2.2110</td> <td>    1.228</td> <td>   -1.801</td> <td> 0.072</td> <td>   -4.618</td> <td>    0.196</td>\n",
       "</tr>\n",
       "<tr>\n",
       "  <th>KnowledgeEventAttendeeCount</th>                   <td>  -11.0699</td> <td>    4.048</td> <td>   -2.735</td> <td> 0.006</td> <td>  -19.004</td> <td>   -3.136</td>\n",
       "</tr>\n",
       "<tr>\n",
       "  <th>TotalAdoptionPercent</th>                          <td>  -71.6949</td> <td>    8.016</td> <td>   -8.944</td> <td> 0.000</td> <td>  -87.405</td> <td>  -55.985</td>\n",
       "</tr>\n",
       "<tr>\n",
       "  <th>LicensedAdoptionPercent</th>                       <td>    1.1891</td> <td>    1.043</td> <td>    1.140</td> <td> 0.254</td> <td>   -0.856</td> <td>    3.234</td>\n",
       "</tr>\n",
       "<tr>\n",
       "  <th>AdoptionCategoryIndicator</th>                     <td>   29.6140</td> <td>    3.327</td> <td>    8.902</td> <td> 0.000</td> <td>   23.094</td> <td>   36.134</td>\n",
       "</tr>\n",
       "<tr>\n",
       "  <th>LicensingCategoryIndicator</th>                    <td>    0.6054</td> <td>    0.093</td> <td>    6.504</td> <td> 0.000</td> <td>    0.423</td> <td>    0.788</td>\n",
       "</tr>\n",
       "<tr>\n",
       "  <th>ResponseRatePercent</th>                           <td>   -1.5460</td> <td>    1.046</td> <td>   -1.478</td> <td> 0.139</td> <td>   -3.596</td> <td>    0.504</td>\n",
       "</tr>\n",
       "<tr>\n",
       "  <th>NPSSatisfactionIndicator_SUM</th>                  <td>  -10.9245</td> <td>    2.862</td> <td>   -3.817</td> <td> 0.000</td> <td>  -16.534</td> <td>   -5.315</td>\n",
       "</tr>\n",
       "<tr>\n",
       "  <th>OverallSupportSurveySatisfactionIndicator_SUM</th> <td>   -6.7215</td> <td>    2.056</td> <td>   -3.268</td> <td> 0.001</td> <td>  -10.752</td> <td>   -2.691</td>\n",
       "</tr>\n",
       "<tr>\n",
       "  <th>UsageRiskIndicator_SUM</th>                        <td>   -1.0120</td> <td>    0.772</td> <td>   -1.311</td> <td> 0.190</td> <td>   -2.525</td> <td>    0.501</td>\n",
       "</tr>\n",
       "<tr>\n",
       "  <th>TotalActivityCount_SUM</th>                        <td>   -0.3812</td> <td>    0.442</td> <td>   -0.863</td> <td> 0.388</td> <td>   -1.247</td> <td>    0.484</td>\n",
       "</tr>\n",
       "</table><br/><br/>Possibly complete quasi-separation: A fraction 0.39 of observations can be<br/>perfectly predicted. This might indicate that there is complete<br/>quasi-separation. In this case some parameters will not be identified."
      ],
      "text/plain": [
       "<class 'statsmodels.iolib.summary.Summary'>\n",
       "\"\"\"\n",
       "                             Logit Regression Results                            \n",
       "=================================================================================\n",
       "Dep. Variable:     CompleteCustomerChurn   No. Observations:                 3558\n",
       "Model:                             Logit   Df Residuals:                     3541\n",
       "Method:                              MLE   Df Model:                           16\n",
       "Date:                   Wed, 04 Dec 2019   Pseudo R-squ.:                  0.5629\n",
       "Time:                           13:33:11   Log-Likelihood:                -320.36\n",
       "converged:                         False   LL-Null:                       -732.87\n",
       "Covariance Type:               nonrobust   LLR p-value:                2.898e-165\n",
       "=================================================================================================================\n",
       "                                                    coef    std err          z      P>|z|      [0.025      0.975]\n",
       "-----------------------------------------------------------------------------------------------------------------\n",
       "Intercept                                         9.6895      1.428      6.786      0.000       6.891      12.488\n",
       "CustomerAgeCategoryIndicator                      2.9165      0.319      9.155      0.000       2.292       3.541\n",
       "AcctPaymentStatusIndicator                       -2.5653      0.989     -2.595      0.009      -4.503      -0.627\n",
       "RepChangesinLast002Months_SUM                     0.9213      0.621      1.484      0.138      -0.296       2.138\n",
       "NumberOfProductionInstances_SUM                -116.8229   1.72e+04     -0.007      0.995   -3.38e+04    3.35e+04\n",
       "OptyWonLast12Months_Percent_SUM                  -2.6109      0.289     -9.049      0.000      -3.176      -2.045\n",
       "OverallEngagementSatisfactionIndicator_SUM       -2.2110      1.228     -1.801      0.072      -4.618       0.196\n",
       "KnowledgeEventAttendeeCount                     -11.0699      4.048     -2.735      0.006     -19.004      -3.136\n",
       "TotalAdoptionPercent                            -71.6949      8.016     -8.944      0.000     -87.405     -55.985\n",
       "LicensedAdoptionPercent                           1.1891      1.043      1.140      0.254      -0.856       3.234\n",
       "AdoptionCategoryIndicator                        29.6140      3.327      8.902      0.000      23.094      36.134\n",
       "LicensingCategoryIndicator                        0.6054      0.093      6.504      0.000       0.423       0.788\n",
       "ResponseRatePercent                              -1.5460      1.046     -1.478      0.139      -3.596       0.504\n",
       "NPSSatisfactionIndicator_SUM                    -10.9245      2.862     -3.817      0.000     -16.534      -5.315\n",
       "OverallSupportSurveySatisfactionIndicator_SUM    -6.7215      2.056     -3.268      0.001     -10.752      -2.691\n",
       "UsageRiskIndicator_SUM                           -1.0120      0.772     -1.311      0.190      -2.525       0.501\n",
       "TotalActivityCount_SUM                           -0.3812      0.442     -0.863      0.388      -1.247       0.484\n",
       "=================================================================================================================\n",
       "\n",
       "Possibly complete quasi-separation: A fraction 0.39 of observations can be\n",
       "perfectly predicted. This might indicate that there is complete\n",
       "quasi-separation. In this case some parameters will not be identified.\n",
       "\"\"\""
      ]
     },
     "execution_count": 37,
     "metadata": {},
     "output_type": "execute_result"
    }
   ],
   "source": [
    "ml2.summary()"
   ]
  },
  {
   "cell_type": "code",
   "execution_count": 38,
   "metadata": {},
   "outputs": [
    {
     "data": {
      "text/plain": [
       "array([[3341.,   30.],\n",
       "       [  87.,  100.]])"
      ]
     },
     "execution_count": 38,
     "metadata": {},
     "output_type": "execute_result"
    }
   ],
   "source": [
    "ml2.pred_table()"
   ]
  },
  {
   "cell_type": "code",
   "execution_count": 39,
   "metadata": {},
   "outputs": [
    {
     "data": {
      "text/plain": [
       "0.9671163575042159"
      ]
     },
     "execution_count": 39,
     "metadata": {},
     "output_type": "execute_result"
    }
   ],
   "source": [
    "accuracy2 = (3341+100)/(3341+30+87+100)\n",
    "accuracy2"
   ]
  },
  {
   "cell_type": "code",
   "execution_count": null,
   "metadata": {},
   "outputs": [],
   "source": []
  },
  {
   "cell_type": "code",
   "execution_count": null,
   "metadata": {},
   "outputs": [],
   "source": []
  },
  {
   "cell_type": "code",
   "execution_count": null,
   "metadata": {},
   "outputs": [],
   "source": []
  },
  {
   "cell_type": "code",
   "execution_count": null,
   "metadata": {},
   "outputs": [],
   "source": []
  },
  {
   "cell_type": "markdown",
   "metadata": {},
   "source": [
    "### Removing Licensed adoption percent"
   ]
  },
  {
   "cell_type": "code",
   "execution_count": 40,
   "metadata": {},
   "outputs": [
    {
     "name": "stdout",
     "output_type": "stream",
     "text": [
      "Warning: Maximum number of iterations has been exceeded.\n",
      "         Current function value: 0.090180\n",
      "         Iterations: 35\n"
     ]
    },
    {
     "name": "stderr",
     "output_type": "stream",
     "text": [
      "c:\\users\\dell\\appdata\\local\\programs\\python\\python37-32\\lib\\site-packages\\statsmodels\\base\\model.py:512: ConvergenceWarning: Maximum Likelihood optimization failed to converge. Check mle_retvals\n",
      "  \"Check mle_retvals\", ConvergenceWarning)\n"
     ]
    }
   ],
   "source": [
    "ml3= sm.logit('CompleteCustomerChurn~CustomerAgeCategoryIndicator+AcctPaymentStatusIndicator+RepChangesinLast002Months_SUM+NumberOfProductionInstances_SUM+OptyWonLast12Months_Percent_SUM+OverallEngagementSatisfactionIndicator_SUM+KnowledgeEventAttendeeCount+TotalAdoptionPercent+AdoptionCategoryIndicator+LicensingCategoryIndicator+ResponseRatePercent+NPSSatisfactionIndicator_SUM+OverallSupportSurveySatisfactionIndicator_SUM+UsageRiskIndicator_SUM+TotalActivityCount_SUM',data=project).fit() "
   ]
  },
  {
   "cell_type": "code",
   "execution_count": 41,
   "metadata": {},
   "outputs": [
    {
     "data": {
      "text/plain": [
       "array([[3342.,   29.],\n",
       "       [  87.,  100.]])"
      ]
     },
     "execution_count": 41,
     "metadata": {},
     "output_type": "execute_result"
    }
   ],
   "source": [
    "ml3.pred_table()"
   ]
  },
  {
   "cell_type": "code",
   "execution_count": 46,
   "metadata": {},
   "outputs": [
    {
     "data": {
      "text/plain": [
       "0.9673974142776841"
      ]
     },
     "execution_count": 46,
     "metadata": {},
     "output_type": "execute_result"
    }
   ],
   "source": [
    "accuracy3 = (3342+100)/(3342+29+87+100)\n",
    "accuracy3"
   ]
  },
  {
   "cell_type": "code",
   "execution_count": null,
   "metadata": {},
   "outputs": [],
   "source": []
  },
  {
   "cell_type": "code",
   "execution_count": null,
   "metadata": {},
   "outputs": [],
   "source": []
  },
  {
   "cell_type": "code",
   "execution_count": null,
   "metadata": {},
   "outputs": [],
   "source": []
  },
  {
   "cell_type": "markdown",
   "metadata": {},
   "source": [
    "### Removing TotalActivityCount_SUM"
   ]
  },
  {
   "cell_type": "code",
   "execution_count": 44,
   "metadata": {},
   "outputs": [
    {
     "name": "stdout",
     "output_type": "stream",
     "text": [
      "Warning: Maximum number of iterations has been exceeded.\n",
      "         Current function value: 0.090305\n",
      "         Iterations: 35\n"
     ]
    },
    {
     "name": "stderr",
     "output_type": "stream",
     "text": [
      "c:\\users\\dell\\appdata\\local\\programs\\python\\python37-32\\lib\\site-packages\\statsmodels\\base\\model.py:512: ConvergenceWarning: Maximum Likelihood optimization failed to converge. Check mle_retvals\n",
      "  \"Check mle_retvals\", ConvergenceWarning)\n"
     ]
    }
   ],
   "source": [
    "ml4= sm.logit('CompleteCustomerChurn~CustomerAgeCategoryIndicator+AcctPaymentStatusIndicator+RepChangesinLast002Months_SUM+NumberOfProductionInstances_SUM+OptyWonLast12Months_Percent_SUM+OverallEngagementSatisfactionIndicator_SUM+KnowledgeEventAttendeeCount+TotalAdoptionPercent+AdoptionCategoryIndicator+LicensingCategoryIndicator+ResponseRatePercent+NPSSatisfactionIndicator_SUM+OverallSupportSurveySatisfactionIndicator_SUM+UsageRiskIndicator_SUM',data=project).fit() "
   ]
  },
  {
   "cell_type": "code",
   "execution_count": 45,
   "metadata": {},
   "outputs": [
    {
     "data": {
      "text/plain": [
       "array([[3341.,   30.],\n",
       "       [  86.,  101.]])"
      ]
     },
     "execution_count": 45,
     "metadata": {},
     "output_type": "execute_result"
    }
   ],
   "source": [
    "ml4.pred_table()"
   ]
  },
  {
   "cell_type": "code",
   "execution_count": 47,
   "metadata": {},
   "outputs": [
    {
     "data": {
      "text/plain": [
       "0.9673974142776841"
      ]
     },
     "execution_count": 47,
     "metadata": {},
     "output_type": "execute_result"
    }
   ],
   "source": [
    "accuracy4 = (3341+101)/(3341+30+86+101)\n",
    "accuracy4"
   ]
  },
  {
   "cell_type": "code",
   "execution_count": null,
   "metadata": {},
   "outputs": [],
   "source": []
  }
 ],
 "metadata": {
  "kernelspec": {
   "display_name": "Python 3",
   "language": "python",
   "name": "python3"
  },
  "language_info": {
   "codemirror_mode": {
    "name": "ipython",
    "version": 3
   },
   "file_extension": ".py",
   "mimetype": "text/x-python",
   "name": "python",
   "nbconvert_exporter": "python",
   "pygments_lexer": "ipython3",
   "version": "3.7.4"
  }
 },
 "nbformat": 4,
 "nbformat_minor": 2
}
